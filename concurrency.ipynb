{
 "cells": [
  {
   "cell_type": "markdown",
   "metadata": {},
   "source": [
    "-A multi-processor system refers to a computer or computing environment that uses multiple processors (also known as CPUs) to execute tasks simultaneously.\n",
    "\n",
    "-Concurrency refers to managing multiple tasks that can run \"at the same time,---switch\n",
    "\n",
    "-Parallelism involves running tasks in parallel, using multiple processors or CPU cores, where each process runs on a separate core\n",
    "\n",
    "-thread is part of a process\n"
   ]
  },
  {
   "cell_type": "code",
   "execution_count": 1,
   "metadata": {},
   "outputs": [
    {
     "name": "stdout",
     "output_type": "stream",
     "text": [
      "Number of available CPU cores: 12\n",
      "Starting concurrent execution...\n",
      "Task 1 is starting.\n",
      "Task 2 is starting.\n",
      "Task 3 is starting.\n",
      "Task 1 is completed.Task 3 is completed.\n",
      "Task 4 is starting.\n",
      "Task 2 is completed.\n",
      "Task 5 is starting.\n",
      "\n",
      "Task 6 is starting.\n",
      "Task 4 is completed.Task 6 is completed.\n",
      "Task 5 is completed.\n",
      "\n",
      "\n",
      "Results: ['Result from Task 1', 'Result from Task 2', 'Result from Task 3', 'Result from Task 4', 'Result from Task 5', 'Result from Task 6']\n",
      "Time taken in concorency: 4.01 seconds\n"
     ]
    }
   ],
   "source": [
    "\n",
    "# ///////////////////////////////////////////////// example one conccurrency\n",
    "\n",
    "import time\n",
    "from concurrent.futures import ThreadPoolExecutor\n",
    "\n",
    "from multiprocessing import cpu_count\n",
    "print(f\"Number of available CPU cores: {cpu_count()}\")\n",
    "\n",
    "#ThreadPoolExecutor is used here to run multiple tasks concurrently in different threads\n",
    "#Task to simulate some CPU-bound work\n",
    "\n",
    "\n",
    "def simulate_work(task_id):\n",
    "    print(f\"Task {task_id} is starting.\")\n",
    "    time.sleep(2)  # Simulate a long-running task\n",
    "    print(f\"Task {task_id} is completed.\")\n",
    "    return f\"Result from Task {task_id}\"\n",
    "\n",
    "# Using concurrency with threeds\n",
    "def concurrent_execution(tasks, num_threeds):\n",
    "    print(\"Starting concurrent execution...\")\n",
    "    with ThreadPoolExecutor(max_workers=num_threeds) as executer:\n",
    "        results = list(executer.map(simulate_work, tasks))\n",
    "    return results\n",
    "\n",
    "#only one thread can work on the task at any given time\n",
    "if __name__ == \"__main__\":\n",
    "    tasks = [1, 2, 3, 4, 5, 6]  # Example Simulating 6 tasks\n",
    "    num_threeds = 3     # Number of concurrent process and they are sharing one CPU Core\n",
    "    start_time = time.time()\n",
    "    results = concurrent_execution(tasks, num_threeds)\n",
    "    end_time = time.time()\n",
    "\n",
    "    print(f\"\\nResults: {results}\")\n",
    "    print(f\"Time taken in concorency: {end_time - start_time:.2f} seconds\")\n",
    "\n"
   ]
  },
  {
   "cell_type": "code",
   "execution_count": null,
   "metadata": {},
   "outputs": [
    {
     "name": "stdout",
     "output_type": "stream",
     "text": [
      "Starting parallel execution...\n"
     ]
    }
   ],
   "source": [
    "\n",
    "\n",
    "\n",
    "\n",
    "\n",
    "# # ///////////////////////////////////////////////// example two Paralle\n",
    "import time\n",
    "from multiprocessing import Pool\n",
    "\n",
    "#The Pool from the multiprocessing module allows for true parallel execution. Each task runs in its own process, allowing multiple tasks to execute truly simultaneously on different CPU cores\n",
    "# from multiprocessing import cpu_count\n",
    "# print(f\"Number of available CPU cores: {cpu_count()}\")\n",
    "\n",
    "\n",
    "# Task to simulate some CPU-bound work\n",
    "def simulate_work(task_id):\n",
    "    print(f\"Task {task_id} is starting.\")\n",
    "    time.sleep(2)  # Simulate a long-running task\n",
    "    print(f\"Task {task_id} is completed.\")\n",
    "    return f\"Result from Task {task_id}\"\n",
    "\n",
    "# Using multiprocessing to handle tasks in parallel\n",
    "def parallel_execution(tasks, num_processes):\n",
    "    print(\"Starting parallel execution...\")\n",
    "    with Pool(num_processes) as pool:\n",
    "        results = pool.map(simulate_work, tasks)\n",
    "    return results\n",
    "\n",
    "if __name__ == \"__main__\":\n",
    "    tasks = [1, 2, 3, 4, 5, 6]  # Example Simulating 6 tasks\n",
    "    num_processes = 4      # Number of parallel processes\n",
    "    start_time = time.time()\n",
    "    results = parallel_execution(tasks, num_processes)\n",
    "    end_time = time.time()\n",
    "\n",
    "    print(f\"\\nResults: {results}\")\n",
    "    print(f\"Time taken: {end_time - start_time:.2f} seconds\")\n",
    "\n"
   ]
  }
 ],
 "metadata": {
  "kernelspec": {
   "display_name": "myenv",
   "language": "python",
   "name": "python3"
  },
  "language_info": {
   "codemirror_mode": {
    "name": "ipython",
    "version": 3
   },
   "file_extension": ".py",
   "mimetype": "text/x-python",
   "name": "python",
   "nbconvert_exporter": "python",
   "pygments_lexer": "ipython3",
   "version": "3.12.7"
  }
 },
 "nbformat": 4,
 "nbformat_minor": 2
}
